{
  "cells": [
    {
      "cell_type": "code",
      "execution_count": null,
      "id": "494de635",
      "metadata": {
        "execution": {
          "iopub.execute_input": "2023-05-19T05:56:37.800091Z",
          "iopub.status.busy": "2023-05-19T05:56:37.799395Z",
          "iopub.status.idle": "2023-05-19T05:56:37.808721Z",
          "shell.execute_reply": "2023-05-19T05:56:37.808160Z"
        },
        "papermill": {
          "duration": 0.018321,
          "end_time": "2023-05-19T05:56:37.810307",
          "exception": false,
          "start_time": "2023-05-19T05:56:37.791986",
          "status": "completed"
        },
        "tags": [],
        "id": "494de635"
      },
      "outputs": [],
      "source": [
        "import pandas as pd\n",
        "import numpy as np\n",
        "import matplotlib.pyplot as plt"
      ]
    },
    {
      "cell_type": "code",
      "execution_count": null,
      "id": "a4557873",
      "metadata": {
        "execution": {
          "iopub.execute_input": "2023-05-19T05:56:37.835200Z",
          "iopub.status.busy": "2023-05-19T05:56:37.834684Z",
          "iopub.status.idle": "2023-05-19T05:56:37.865240Z",
          "shell.execute_reply": "2023-05-19T05:56:37.864022Z"
        },
        "papermill": {
          "duration": 0.039611,
          "end_time": "2023-05-19T05:56:37.867385",
          "exception": false,
          "start_time": "2023-05-19T05:56:37.827774",
          "status": "completed"
        },
        "tags": [],
        "id": "a4557873"
      },
      "outputs": [],
      "source": [
        "Exams = pd.read_csv(\"/kaggle/input/student-performance-in-mathematics/exams.csv\")"
      ]
    },
    {
      "cell_type": "code",
      "execution_count": null,
      "id": "1fb1c9fb",
      "metadata": {
        "execution": {
          "iopub.execute_input": "2023-05-19T05:56:37.881369Z",
          "iopub.status.busy": "2023-05-19T05:56:37.881073Z",
          "iopub.status.idle": "2023-05-19T05:56:37.906228Z",
          "shell.execute_reply": "2023-05-19T05:56:37.905547Z"
        },
        "papermill": {
          "duration": 0.034351,
          "end_time": "2023-05-19T05:56:37.908241",
          "exception": false,
          "start_time": "2023-05-19T05:56:37.873890",
          "status": "completed"
        },
        "tags": [],
        "id": "1fb1c9fb",
        "outputId": "2c998554-adce-4c3c-b591-f119aaa5de6e"
      },
      "outputs": [
        {
          "name": "stdout",
          "output_type": "stream",
          "text": [
            "<class 'pandas.core.frame.DataFrame'>\n",
            "RangeIndex: 1000 entries, 0 to 999\n",
            "Data columns (total 8 columns):\n",
            " #   Column                       Non-Null Count  Dtype \n",
            "---  ------                       --------------  ----- \n",
            " 0   gender                       1000 non-null   object\n",
            " 1   race/ethnicity               1000 non-null   object\n",
            " 2   parental level of education  1000 non-null   object\n",
            " 3   lunch                        1000 non-null   object\n",
            " 4   test preparation course      1000 non-null   object\n",
            " 5   math score                   1000 non-null   int64 \n",
            " 6   reading score                1000 non-null   int64 \n",
            " 7   writing score                1000 non-null   int64 \n",
            "dtypes: int64(3), object(5)\n",
            "memory usage: 62.6+ KB\n"
          ]
        }
      ],
      "source": [
        "Exams.info()"
      ]
    },
    {
      "cell_type": "code",
      "execution_count": null,
      "id": "ae5a17d4",
      "metadata": {
        "execution": {
          "iopub.execute_input": "2023-05-19T05:56:37.922158Z",
          "iopub.status.busy": "2023-05-19T05:56:37.921825Z",
          "iopub.status.idle": "2023-05-19T05:56:37.954292Z",
          "shell.execute_reply": "2023-05-19T05:56:37.953040Z"
        },
        "papermill": {
          "duration": 0.04168,
          "end_time": "2023-05-19T05:56:37.956269",
          "exception": false,
          "start_time": "2023-05-19T05:56:37.914589",
          "status": "completed"
        },
        "tags": [],
        "id": "ae5a17d4",
        "outputId": "b74acdf2-16d8-4ad3-a522-3db45f7989c4"
      },
      "outputs": [
        {
          "data": {
            "text/html": [
              "<div>\n",
              "<style scoped>\n",
              "    .dataframe tbody tr th:only-of-type {\n",
              "        vertical-align: middle;\n",
              "    }\n",
              "\n",
              "    .dataframe tbody tr th {\n",
              "        vertical-align: top;\n",
              "    }\n",
              "\n",
              "    .dataframe thead th {\n",
              "        text-align: right;\n",
              "    }\n",
              "</style>\n",
              "<table border=\"1\" class=\"dataframe\">\n",
              "  <thead>\n",
              "    <tr style=\"text-align: right;\">\n",
              "      <th></th>\n",
              "      <th>count</th>\n",
              "      <th>mean</th>\n",
              "      <th>std</th>\n",
              "      <th>min</th>\n",
              "      <th>25%</th>\n",
              "      <th>50%</th>\n",
              "      <th>75%</th>\n",
              "      <th>max</th>\n",
              "    </tr>\n",
              "  </thead>\n",
              "  <tbody>\n",
              "    <tr>\n",
              "      <th>math score</th>\n",
              "      <td>1000.0</td>\n",
              "      <td>67.810</td>\n",
              "      <td>15.250196</td>\n",
              "      <td>15.0</td>\n",
              "      <td>58.0</td>\n",
              "      <td>68.0</td>\n",
              "      <td>79.25</td>\n",
              "      <td>100.0</td>\n",
              "    </tr>\n",
              "    <tr>\n",
              "      <th>reading score</th>\n",
              "      <td>1000.0</td>\n",
              "      <td>70.382</td>\n",
              "      <td>14.107413</td>\n",
              "      <td>25.0</td>\n",
              "      <td>61.0</td>\n",
              "      <td>70.5</td>\n",
              "      <td>80.00</td>\n",
              "      <td>100.0</td>\n",
              "    </tr>\n",
              "    <tr>\n",
              "      <th>writing score</th>\n",
              "      <td>1000.0</td>\n",
              "      <td>69.140</td>\n",
              "      <td>15.025917</td>\n",
              "      <td>15.0</td>\n",
              "      <td>59.0</td>\n",
              "      <td>70.0</td>\n",
              "      <td>80.00</td>\n",
              "      <td>100.0</td>\n",
              "    </tr>\n",
              "  </tbody>\n",
              "</table>\n",
              "</div>"
            ],
            "text/plain": [
              "                count    mean        std   min   25%   50%    75%    max\n",
              "math score     1000.0  67.810  15.250196  15.0  58.0  68.0  79.25  100.0\n",
              "reading score  1000.0  70.382  14.107413  25.0  61.0  70.5  80.00  100.0\n",
              "writing score  1000.0  69.140  15.025917  15.0  59.0  70.0  80.00  100.0"
            ]
          },
          "execution_count": 4,
          "metadata": {},
          "output_type": "execute_result"
        }
      ],
      "source": [
        "Exams.describe().T"
      ]
    },
    {
      "cell_type": "code",
      "execution_count": null,
      "id": "6363dc94",
      "metadata": {
        "execution": {
          "iopub.execute_input": "2023-05-19T05:56:37.971102Z",
          "iopub.status.busy": "2023-05-19T05:56:37.970743Z",
          "iopub.status.idle": "2023-05-19T05:56:37.979576Z",
          "shell.execute_reply": "2023-05-19T05:56:37.978518Z"
        },
        "papermill": {
          "duration": 0.019142,
          "end_time": "2023-05-19T05:56:37.982194",
          "exception": false,
          "start_time": "2023-05-19T05:56:37.963052",
          "status": "completed"
        },
        "tags": [],
        "id": "6363dc94",
        "outputId": "75eefb3b-4494-4517-95df-a19748158742"
      },
      "outputs": [
        {
          "data": {
            "text/plain": [
              "gender                         0\n",
              "race/ethnicity                 0\n",
              "parental level of education    0\n",
              "lunch                          0\n",
              "test preparation course        0\n",
              "math score                     0\n",
              "reading score                  0\n",
              "writing score                  0\n",
              "dtype: int64"
            ]
          },
          "execution_count": 5,
          "metadata": {},
          "output_type": "execute_result"
        }
      ],
      "source": [
        "Exams.isna().sum()  #No null values present in the given dataset"
      ]
    },
    {
      "cell_type": "code",
      "execution_count": null,
      "id": "e9ab74cd",
      "metadata": {
        "execution": {
          "iopub.execute_input": "2023-05-19T05:56:37.997307Z",
          "iopub.status.busy": "2023-05-19T05:56:37.996930Z",
          "iopub.status.idle": "2023-05-19T05:56:38.008053Z",
          "shell.execute_reply": "2023-05-19T05:56:38.007097Z"
        },
        "papermill": {
          "duration": 0.020505,
          "end_time": "2023-05-19T05:56:38.009762",
          "exception": false,
          "start_time": "2023-05-19T05:56:37.989257",
          "status": "completed"
        },
        "tags": [],
        "id": "e9ab74cd",
        "outputId": "33acd129-c437-4b38-ff49-08e96cfc7cb2"
      },
      "outputs": [
        {
          "data": {
            "text/html": [
              "<div>\n",
              "<style scoped>\n",
              "    .dataframe tbody tr th:only-of-type {\n",
              "        vertical-align: middle;\n",
              "    }\n",
              "\n",
              "    .dataframe tbody tr th {\n",
              "        vertical-align: top;\n",
              "    }\n",
              "\n",
              "    .dataframe thead th {\n",
              "        text-align: right;\n",
              "    }\n",
              "</style>\n",
              "<table border=\"1\" class=\"dataframe\">\n",
              "  <thead>\n",
              "    <tr style=\"text-align: right;\">\n",
              "      <th></th>\n",
              "      <th>gender</th>\n",
              "      <th>race/ethnicity</th>\n",
              "      <th>parental level of education</th>\n",
              "      <th>lunch</th>\n",
              "      <th>test preparation course</th>\n",
              "      <th>math score</th>\n",
              "      <th>reading score</th>\n",
              "      <th>writing score</th>\n",
              "    </tr>\n",
              "  </thead>\n",
              "  <tbody>\n",
              "    <tr>\n",
              "      <th>0</th>\n",
              "      <td>female</td>\n",
              "      <td>group D</td>\n",
              "      <td>some college</td>\n",
              "      <td>standard</td>\n",
              "      <td>completed</td>\n",
              "      <td>59</td>\n",
              "      <td>70</td>\n",
              "      <td>78</td>\n",
              "    </tr>\n",
              "    <tr>\n",
              "      <th>1</th>\n",
              "      <td>male</td>\n",
              "      <td>group D</td>\n",
              "      <td>associate's degree</td>\n",
              "      <td>standard</td>\n",
              "      <td>none</td>\n",
              "      <td>96</td>\n",
              "      <td>93</td>\n",
              "      <td>87</td>\n",
              "    </tr>\n",
              "    <tr>\n",
              "      <th>2</th>\n",
              "      <td>female</td>\n",
              "      <td>group D</td>\n",
              "      <td>some college</td>\n",
              "      <td>free/reduced</td>\n",
              "      <td>none</td>\n",
              "      <td>57</td>\n",
              "      <td>76</td>\n",
              "      <td>77</td>\n",
              "    </tr>\n",
              "  </tbody>\n",
              "</table>\n",
              "</div>"
            ],
            "text/plain": [
              "   gender race/ethnicity parental level of education         lunch  \\\n",
              "0  female        group D                some college      standard   \n",
              "1    male        group D          associate's degree      standard   \n",
              "2  female        group D                some college  free/reduced   \n",
              "\n",
              "  test preparation course  math score  reading score  writing score  \n",
              "0               completed          59             70             78  \n",
              "1                    none          96             93             87  \n",
              "2                    none          57             76             77  "
            ]
          },
          "execution_count": 6,
          "metadata": {},
          "output_type": "execute_result"
        }
      ],
      "source": [
        "Exams.head(3)"
      ]
    },
    {
      "cell_type": "markdown",
      "id": "6e0ef3dc",
      "metadata": {
        "papermill": {
          "duration": 0.006498,
          "end_time": "2023-05-19T05:56:38.035775",
          "exception": false,
          "start_time": "2023-05-19T05:56:38.029277",
          "status": "completed"
        },
        "tags": [],
        "id": "6e0ef3dc"
      },
      "source": [
        "# Renaming of columns"
      ]
    },
    {
      "cell_type": "code",
      "execution_count": null,
      "id": "2428cec2",
      "metadata": {
        "execution": {
          "iopub.execute_input": "2023-05-19T05:56:38.050287Z",
          "iopub.status.busy": "2023-05-19T05:56:38.049924Z",
          "iopub.status.idle": "2023-05-19T05:56:38.056077Z",
          "shell.execute_reply": "2023-05-19T05:56:38.054933Z"
        },
        "papermill": {
          "duration": 0.015898,
          "end_time": "2023-05-19T05:56:38.058012",
          "exception": false,
          "start_time": "2023-05-19T05:56:38.042114",
          "status": "completed"
        },
        "tags": [],
        "id": "2428cec2"
      },
      "outputs": [],
      "source": [
        "Exams.rename(columns = {\"gender\":\"Gender\",\"race/ethnicity\":\"Race/Ethnicity\",\"parental level of education\":\"Parent's_Education\",\"lunch\":\"Lunch\",\"test preparation course\":\"Test_Preperation\",\"math score\":\"Math_score\",\"reading score\":\"Reading_score\",\"writing score\":\"Writing_score\"},inplace = True)"
      ]
    },
    {
      "cell_type": "code",
      "execution_count": null,
      "id": "bbc52859",
      "metadata": {
        "execution": {
          "iopub.execute_input": "2023-05-19T05:56:38.073063Z",
          "iopub.status.busy": "2023-05-19T05:56:38.072754Z",
          "iopub.status.idle": "2023-05-19T05:56:38.086439Z",
          "shell.execute_reply": "2023-05-19T05:56:38.085483Z"
        },
        "papermill": {
          "duration": 0.023475,
          "end_time": "2023-05-19T05:56:38.088458",
          "exception": false,
          "start_time": "2023-05-19T05:56:38.064983",
          "status": "completed"
        },
        "tags": [],
        "id": "bbc52859"
      },
      "outputs": [],
      "source": [
        "#Creating new column to calculate the total marks of math,reading and writing and also providing ranks.\n",
        "\n",
        "Exams[\"Total\"] = Exams[\"Math_score\"]+Exams[\"Reading_score\"]+Exams[\"Writing_score\"]\n",
        "\n",
        "#Ranking is done by using method = min so that students with same marks will get the same rank and the next rank will be continued by alternate number.\n",
        "\n",
        "Exams[\"Rank\"] = Exams[\"Total\"].rank(ascending = False,method= \"min\")\n",
        "\n",
        "#Sorting of values are done in ascending order\n",
        "\n",
        "Exams.sort_values(\"Rank\", inplace = True)\n",
        "\n",
        "#Index is set to Rank\n",
        "\n",
        "Exams = Exams.set_index(\"Rank\")\n"
      ]
    },
    {
      "cell_type": "code",
      "execution_count": null,
      "id": "76a476ac",
      "metadata": {
        "execution": {
          "iopub.execute_input": "2023-05-19T05:56:38.103002Z",
          "iopub.status.busy": "2023-05-19T05:56:38.102731Z",
          "iopub.status.idle": "2023-05-19T05:56:38.172883Z",
          "shell.execute_reply": "2023-05-19T05:56:38.172079Z"
        },
        "papermill": {
          "duration": 0.079398,
          "end_time": "2023-05-19T05:56:38.174605",
          "exception": false,
          "start_time": "2023-05-19T05:56:38.095207",
          "status": "completed"
        },
        "tags": [],
        "id": "76a476ac",
        "outputId": "1472ea3d-dd0a-4c29-ffcd-f335d8b0c879"
      },
      "outputs": [
        {
          "data": {
            "text/html": [
              "<div>\n",
              "<style scoped>\n",
              "    .dataframe tbody tr th:only-of-type {\n",
              "        vertical-align: middle;\n",
              "    }\n",
              "\n",
              "    .dataframe tbody tr th {\n",
              "        vertical-align: top;\n",
              "    }\n",
              "\n",
              "    .dataframe thead th {\n",
              "        text-align: right;\n",
              "    }\n",
              "</style>\n",
              "<table border=\"1\" class=\"dataframe\">\n",
              "  <thead>\n",
              "    <tr style=\"text-align: right;\">\n",
              "      <th></th>\n",
              "      <th>Gender</th>\n",
              "      <th>Race/Ethnicity</th>\n",
              "      <th>Parent's_Education</th>\n",
              "      <th>Lunch</th>\n",
              "      <th>Test_Preperation</th>\n",
              "      <th>Math_score</th>\n",
              "      <th>Reading_score</th>\n",
              "      <th>Writing_score</th>\n",
              "      <th>Total</th>\n",
              "      <th>P/F</th>\n",
              "    </tr>\n",
              "    <tr>\n",
              "      <th>Rank</th>\n",
              "      <th></th>\n",
              "      <th></th>\n",
              "      <th></th>\n",
              "      <th></th>\n",
              "      <th></th>\n",
              "      <th></th>\n",
              "      <th></th>\n",
              "      <th></th>\n",
              "      <th></th>\n",
              "      <th></th>\n",
              "    </tr>\n",
              "  </thead>\n",
              "  <tbody>\n",
              "    <tr>\n",
              "      <th>1.0</th>\n",
              "      <td>male</td>\n",
              "      <td>group D</td>\n",
              "      <td>bachelor's degree</td>\n",
              "      <td>standard</td>\n",
              "      <td>completed</td>\n",
              "      <td>100</td>\n",
              "      <td>100</td>\n",
              "      <td>100</td>\n",
              "      <td>300</td>\n",
              "      <td>P</td>\n",
              "    </tr>\n",
              "    <tr>\n",
              "      <th>1.0</th>\n",
              "      <td>male</td>\n",
              "      <td>group E</td>\n",
              "      <td>bachelor's degree</td>\n",
              "      <td>standard</td>\n",
              "      <td>completed</td>\n",
              "      <td>100</td>\n",
              "      <td>100</td>\n",
              "      <td>100</td>\n",
              "      <td>300</td>\n",
              "      <td>P</td>\n",
              "    </tr>\n",
              "    <tr>\n",
              "      <th>3.0</th>\n",
              "      <td>male</td>\n",
              "      <td>group D</td>\n",
              "      <td>associate's degree</td>\n",
              "      <td>standard</td>\n",
              "      <td>completed</td>\n",
              "      <td>99</td>\n",
              "      <td>100</td>\n",
              "      <td>100</td>\n",
              "      <td>299</td>\n",
              "      <td>P</td>\n",
              "    </tr>\n",
              "    <tr>\n",
              "      <th>4.0</th>\n",
              "      <td>male</td>\n",
              "      <td>group D</td>\n",
              "      <td>associate's degree</td>\n",
              "      <td>standard</td>\n",
              "      <td>completed</td>\n",
              "      <td>100</td>\n",
              "      <td>100</td>\n",
              "      <td>98</td>\n",
              "      <td>298</td>\n",
              "      <td>P</td>\n",
              "    </tr>\n",
              "    <tr>\n",
              "      <th>5.0</th>\n",
              "      <td>female</td>\n",
              "      <td>group E</td>\n",
              "      <td>bachelor's degree</td>\n",
              "      <td>standard</td>\n",
              "      <td>completed</td>\n",
              "      <td>98</td>\n",
              "      <td>100</td>\n",
              "      <td>99</td>\n",
              "      <td>297</td>\n",
              "      <td>P</td>\n",
              "    </tr>\n",
              "    <tr>\n",
              "      <th>...</th>\n",
              "      <td>...</td>\n",
              "      <td>...</td>\n",
              "      <td>...</td>\n",
              "      <td>...</td>\n",
              "      <td>...</td>\n",
              "      <td>...</td>\n",
              "      <td>...</td>\n",
              "      <td>...</td>\n",
              "      <td>...</td>\n",
              "      <td>...</td>\n",
              "    </tr>\n",
              "    <tr>\n",
              "      <th>996.0</th>\n",
              "      <td>female</td>\n",
              "      <td>group C</td>\n",
              "      <td>associate's degree</td>\n",
              "      <td>free/reduced</td>\n",
              "      <td>none</td>\n",
              "      <td>28</td>\n",
              "      <td>32</td>\n",
              "      <td>28</td>\n",
              "      <td>88</td>\n",
              "      <td>F</td>\n",
              "    </tr>\n",
              "    <tr>\n",
              "      <th>997.0</th>\n",
              "      <td>male</td>\n",
              "      <td>group C</td>\n",
              "      <td>some high school</td>\n",
              "      <td>standard</td>\n",
              "      <td>none</td>\n",
              "      <td>28</td>\n",
              "      <td>27</td>\n",
              "      <td>23</td>\n",
              "      <td>78</td>\n",
              "      <td>F</td>\n",
              "    </tr>\n",
              "    <tr>\n",
              "      <th>998.0</th>\n",
              "      <td>male</td>\n",
              "      <td>group C</td>\n",
              "      <td>high school</td>\n",
              "      <td>standard</td>\n",
              "      <td>none</td>\n",
              "      <td>31</td>\n",
              "      <td>27</td>\n",
              "      <td>19</td>\n",
              "      <td>77</td>\n",
              "      <td>F</td>\n",
              "    </tr>\n",
              "    <tr>\n",
              "      <th>998.0</th>\n",
              "      <td>female</td>\n",
              "      <td>group C</td>\n",
              "      <td>high school</td>\n",
              "      <td>standard</td>\n",
              "      <td>none</td>\n",
              "      <td>21</td>\n",
              "      <td>30</td>\n",
              "      <td>26</td>\n",
              "      <td>77</td>\n",
              "      <td>F</td>\n",
              "    </tr>\n",
              "    <tr>\n",
              "      <th>1000.0</th>\n",
              "      <td>male</td>\n",
              "      <td>group C</td>\n",
              "      <td>high school</td>\n",
              "      <td>free/reduced</td>\n",
              "      <td>none</td>\n",
              "      <td>20</td>\n",
              "      <td>25</td>\n",
              "      <td>15</td>\n",
              "      <td>60</td>\n",
              "      <td>F</td>\n",
              "    </tr>\n",
              "  </tbody>\n",
              "</table>\n",
              "<p>1000 rows × 10 columns</p>\n",
              "</div>"
            ],
            "text/plain": [
              "        Gender Race/Ethnicity  Parent's_Education         Lunch  \\\n",
              "Rank                                                              \n",
              "1.0       male        group D   bachelor's degree      standard   \n",
              "1.0       male        group E   bachelor's degree      standard   \n",
              "3.0       male        group D  associate's degree      standard   \n",
              "4.0       male        group D  associate's degree      standard   \n",
              "5.0     female        group E   bachelor's degree      standard   \n",
              "...        ...            ...                 ...           ...   \n",
              "996.0   female        group C  associate's degree  free/reduced   \n",
              "997.0     male        group C    some high school      standard   \n",
              "998.0     male        group C         high school      standard   \n",
              "998.0   female        group C         high school      standard   \n",
              "1000.0    male        group C         high school  free/reduced   \n",
              "\n",
              "       Test_Preperation  Math_score  Reading_score  Writing_score  Total P/F  \n",
              "Rank                                                                          \n",
              "1.0           completed         100            100            100    300   P  \n",
              "1.0           completed         100            100            100    300   P  \n",
              "3.0           completed          99            100            100    299   P  \n",
              "4.0           completed         100            100             98    298   P  \n",
              "5.0           completed          98            100             99    297   P  \n",
              "...                 ...         ...            ...            ...    ...  ..  \n",
              "996.0              none          28             32             28     88   F  \n",
              "997.0              none          28             27             23     78   F  \n",
              "998.0              none          31             27             19     77   F  \n",
              "998.0              none          21             30             26     77   F  \n",
              "1000.0             none          20             25             15     60   F  \n",
              "\n",
              "[1000 rows x 10 columns]"
            ]
          },
          "execution_count": 9,
          "metadata": {},
          "output_type": "execute_result"
        }
      ],
      "source": [
        "#New column P/F is created in which if any student gets less than 35 in any subject it will be considered as Fail(F)\n",
        "\n",
        "Exams[\"P/F\"] = [\"P\" if (i[\"Math_score\"] > 35 and i[\"Reading_score\"] > 35 and i[\"Writing_score\"] > 35) else \"F\" for index, i in Exams.iterrows()]\n",
        "Exams"
      ]
    },
    {
      "cell_type": "code",
      "execution_count": null,
      "id": "165f6a64",
      "metadata": {
        "execution": {
          "iopub.execute_input": "2023-05-19T05:56:38.190279Z",
          "iopub.status.busy": "2023-05-19T05:56:38.189979Z",
          "iopub.status.idle": "2023-05-19T05:56:38.199572Z",
          "shell.execute_reply": "2023-05-19T05:56:38.198711Z"
        },
        "papermill": {
          "duration": 0.019747,
          "end_time": "2023-05-19T05:56:38.201471",
          "exception": false,
          "start_time": "2023-05-19T05:56:38.181724",
          "status": "completed"
        },
        "tags": [],
        "id": "165f6a64",
        "outputId": "1c30e59f-0c7d-49f8-f6c5-2337ece9023e"
      },
      "outputs": [
        {
          "data": {
            "text/plain": [
              "male      508\n",
              "female    492\n",
              "Name: Gender, dtype: int64"
            ]
          },
          "execution_count": 10,
          "metadata": {},
          "output_type": "execute_result"
        }
      ],
      "source": [
        "Gender_wise_strength = Exams[\"Gender\"].value_counts()\n",
        "\n",
        "Gender_wise_strength"
      ]
    },
    {
      "cell_type": "markdown",
      "id": "192c4b04",
      "metadata": {
        "papermill": {
          "duration": 0.006817,
          "end_time": "2023-05-19T05:56:38.215689",
          "exception": false,
          "start_time": "2023-05-19T05:56:38.208872",
          "status": "completed"
        },
        "tags": [],
        "id": "192c4b04"
      },
      "source": [
        "# 1.Group by education and gender"
      ]
    },
    {
      "cell_type": "code",
      "execution_count": null,
      "id": "8977fbb4",
      "metadata": {
        "execution": {
          "iopub.execute_input": "2023-05-19T05:56:38.232880Z",
          "iopub.status.busy": "2023-05-19T05:56:38.232245Z",
          "iopub.status.idle": "2023-05-19T05:56:38.248156Z",
          "shell.execute_reply": "2023-05-19T05:56:38.247194Z"
        },
        "papermill": {
          "duration": 0.026501,
          "end_time": "2023-05-19T05:56:38.250104",
          "exception": false,
          "start_time": "2023-05-19T05:56:38.223603",
          "status": "completed"
        },
        "tags": [],
        "id": "8977fbb4",
        "outputId": "9766dfa5-8203-4811-e8df-d70aff29bbb5"
      },
      "outputs": [
        {
          "data": {
            "text/html": [
              "<div>\n",
              "<style scoped>\n",
              "    .dataframe tbody tr th:only-of-type {\n",
              "        vertical-align: middle;\n",
              "    }\n",
              "\n",
              "    .dataframe tbody tr th {\n",
              "        vertical-align: top;\n",
              "    }\n",
              "\n",
              "    .dataframe thead th {\n",
              "        text-align: right;\n",
              "    }\n",
              "</style>\n",
              "<table border=\"1\" class=\"dataframe\">\n",
              "  <thead>\n",
              "    <tr style=\"text-align: right;\">\n",
              "      <th></th>\n",
              "      <th></th>\n",
              "      <th>Count</th>\n",
              "    </tr>\n",
              "    <tr>\n",
              "      <th>Parent's_Education</th>\n",
              "      <th>Gender</th>\n",
              "      <th></th>\n",
              "    </tr>\n",
              "  </thead>\n",
              "  <tbody>\n",
              "    <tr>\n",
              "      <th rowspan=\"2\" valign=\"top\">associate's degree</th>\n",
              "      <th>male</th>\n",
              "      <td>103</td>\n",
              "    </tr>\n",
              "    <tr>\n",
              "      <th>female</th>\n",
              "      <td>101</td>\n",
              "    </tr>\n",
              "    <tr>\n",
              "      <th rowspan=\"2\" valign=\"top\">bachelor's degree</th>\n",
              "      <th>male</th>\n",
              "      <td>53</td>\n",
              "    </tr>\n",
              "    <tr>\n",
              "      <th>female</th>\n",
              "      <td>52</td>\n",
              "    </tr>\n",
              "    <tr>\n",
              "      <th rowspan=\"2\" valign=\"top\">high school</th>\n",
              "      <th>female</th>\n",
              "      <td>116</td>\n",
              "    </tr>\n",
              "    <tr>\n",
              "      <th>male</th>\n",
              "      <td>99</td>\n",
              "    </tr>\n",
              "    <tr>\n",
              "      <th rowspan=\"2\" valign=\"top\">master's degree</th>\n",
              "      <th>male</th>\n",
              "      <td>42</td>\n",
              "    </tr>\n",
              "    <tr>\n",
              "      <th>female</th>\n",
              "      <td>33</td>\n",
              "    </tr>\n",
              "    <tr>\n",
              "      <th rowspan=\"2\" valign=\"top\">some college</th>\n",
              "      <th>male</th>\n",
              "      <td>118</td>\n",
              "    </tr>\n",
              "    <tr>\n",
              "      <th>female</th>\n",
              "      <td>106</td>\n",
              "    </tr>\n",
              "    <tr>\n",
              "      <th rowspan=\"2\" valign=\"top\">some high school</th>\n",
              "      <th>male</th>\n",
              "      <td>93</td>\n",
              "    </tr>\n",
              "    <tr>\n",
              "      <th>female</th>\n",
              "      <td>84</td>\n",
              "    </tr>\n",
              "  </tbody>\n",
              "</table>\n",
              "</div>"
            ],
            "text/plain": [
              "                           Count\n",
              "Parent's_Education Gender       \n",
              "associate's degree male      103\n",
              "                   female    101\n",
              "bachelor's degree  male       53\n",
              "                   female     52\n",
              "high school        female    116\n",
              "                   male       99\n",
              "master's degree    male       42\n",
              "                   female     33\n",
              "some college       male      118\n",
              "                   female    106\n",
              "some high school   male       93\n",
              "                   female     84"
            ]
          },
          "execution_count": 11,
          "metadata": {},
          "output_type": "execute_result"
        }
      ],
      "source": [
        "#New dataframe is created with rank, Gender and parent's education\n",
        "\n",
        "Parents = Exams[[\"Gender\",\"Parent's_Education\"]]\n",
        "\n",
        "#Grouping of columns are done based on Parent's education and gender and their count is calculated.\n",
        "\n",
        "Parents = Parents.groupby(\"Parent's_Education\")[\"Gender\"].value_counts()\n",
        "\n",
        "#Series is converted to DataFrame\n",
        "\n",
        "Parents = pd.DataFrame(Parents)\n",
        "\n",
        "#Column rename is done from Gender to Count\n",
        "\n",
        "Parents = Parents.rename(columns = {\"Gender\":\"Count\"})\n",
        "\n",
        "Parents"
      ]
    },
    {
      "cell_type": "markdown",
      "id": "3b69ccfe",
      "metadata": {
        "papermill": {
          "duration": 0.006743,
          "end_time": "2023-05-19T05:56:38.264254",
          "exception": false,
          "start_time": "2023-05-19T05:56:38.257511",
          "status": "completed"
        },
        "tags": [],
        "id": "3b69ccfe"
      },
      "source": [
        "# Plotting bar chart of Parent's education vs student gender"
      ]
    },
    {
      "cell_type": "code",
      "execution_count": null,
      "id": "6d73e512",
      "metadata": {
        "execution": {
          "iopub.execute_input": "2023-05-19T05:56:38.279250Z",
          "iopub.status.busy": "2023-05-19T05:56:38.278971Z",
          "iopub.status.idle": "2023-05-19T05:56:38.629877Z",
          "shell.execute_reply": "2023-05-19T05:56:38.628893Z"
        },
        "papermill": {
          "duration": 0.360841,
          "end_time": "2023-05-19T05:56:38.632028",
          "exception": false,
          "start_time": "2023-05-19T05:56:38.271187",
          "status": "completed"
        },
        "tags": [],
        "id": "6d73e512",
        "outputId": "3c72693d-68a8-4f88-b511-bf2719c74b74"
      },
      "outputs": [
        {
          "data": {
            "text/plain": [
              "<AxesSubplot: title={'center': \"Parent's education vs Student gender\"}, xlabel='Count'>"
            ]
          },
          "execution_count": 12,
          "metadata": {},
          "output_type": "execute_result"
        },
        {
          "data": {
            "image/png": "[encoded data removed]",
            "text/plain": [
              "<Figure size 640x480 with 1 Axes>"
            ]
          },
          "metadata": {},
          "output_type": "display_data"
        }
      ],
      "source": [
        "#Visualization is done for parents dataframe\n",
        "\n",
        "Colors = [\"#B76AEA\"]\n",
        "\n",
        "Parents.plot(kind = \"bar\",xlabel = \"Count\",title = \"Parent's education vs Student gender\", color = Colors)"
      ]
    },
    {
      "cell_type": "markdown",
      "id": "f8f7b802",
      "metadata": {
        "papermill": {
          "duration": 0.009294,
          "end_time": "2023-05-19T05:56:38.650119",
          "exception": false,
          "start_time": "2023-05-19T05:56:38.640825",
          "status": "completed"
        },
        "tags": [],
        "id": "f8f7b802"
      },
      "source": [
        "# 2. Mean of whole strength and comparing who are below mean and above mean"
      ]
    },
    {
      "cell_type": "code",
      "execution_count": null,
      "id": "2c3ad67b",
      "metadata": {
        "execution": {
          "iopub.execute_input": "2023-05-19T05:56:38.667658Z",
          "iopub.status.busy": "2023-05-19T05:56:38.667285Z",
          "iopub.status.idle": "2023-05-19T05:56:38.683773Z",
          "shell.execute_reply": "2023-05-19T05:56:38.682798Z"
        },
        "papermill": {
          "duration": 0.027483,
          "end_time": "2023-05-19T05:56:38.685532",
          "exception": false,
          "start_time": "2023-05-19T05:56:38.658049",
          "status": "completed"
        },
        "tags": [],
        "id": "2c3ad67b",
        "outputId": "caf9df29-7986-4d26-c415-d6a49bf4d0cb"
      },
      "outputs": [
        {
          "name": "stderr",
          "output_type": "stream",
          "text": [
            "/tmp/ipykernel_20/645213746.py:11: SettingWithCopyWarning: \n",
            "A value is trying to be set on a copy of a slice from a DataFrame.\n",
            "Try using .loc[row_indexer,col_indexer] = value instead\n",
            "\n",
            "See the caveats in the documentation: https://pandas.pydata.org/pandas-docs/stable/user_guide/indexing.html#returning-a-view-versus-a-copy\n",
            "  Mean_value[\"Performance\"] = [\"Good\" if value >= Mean else \"Poor\" for value in Mean_value[\"Total\"]]\n"
          ]
        },
        {
          "data": {
            "text/html": [
              "<div>\n",
              "<style scoped>\n",
              "    .dataframe tbody tr th:only-of-type {\n",
              "        vertical-align: middle;\n",
              "    }\n",
              "\n",
              "    .dataframe tbody tr th {\n",
              "        vertical-align: top;\n",
              "    }\n",
              "\n",
              "    .dataframe thead th {\n",
              "        text-align: right;\n",
              "    }\n",
              "</style>\n",
              "<table border=\"1\" class=\"dataframe\">\n",
              "  <thead>\n",
              "    <tr style=\"text-align: right;\">\n",
              "      <th></th>\n",
              "      <th>Count</th>\n",
              "      <th>Performance_Percentage</th>\n",
              "    </tr>\n",
              "    <tr>\n",
              "      <th>Performance</th>\n",
              "      <th></th>\n",
              "      <th></th>\n",
              "    </tr>\n",
              "  </thead>\n",
              "  <tbody>\n",
              "    <tr>\n",
              "      <th>Good</th>\n",
              "      <td>515</td>\n",
              "      <td>51.5</td>\n",
              "    </tr>\n",
              "    <tr>\n",
              "      <th>Poor</th>\n",
              "      <td>485</td>\n",
              "      <td>48.5</td>\n",
              "    </tr>\n",
              "  </tbody>\n",
              "</table>\n",
              "</div>"
            ],
            "text/plain": [
              "             Count  Performance_Percentage\n",
              "Performance                               \n",
              "Good           515                    51.5\n",
              "Poor           485                    48.5"
            ]
          },
          "execution_count": 13,
          "metadata": {},
          "output_type": "execute_result"
        }
      ],
      "source": [
        "#Mean value of the total column is calculated\n",
        "\n",
        "Mean = Exams[\"Total\"].mean()\n",
        "\n",
        "#New dataframe is created with name Mean_value\n",
        "\n",
        "Mean_value = Exams[[\"Total\"]]\n",
        "\n",
        "#New column performance is created with values being good or poor based on mean value. If value is above mean then performance is good else poor.\n",
        "\n",
        "Mean_value[\"Performance\"] = [\"Good\" if value >= Mean else \"Poor\" for value in Mean_value[\"Total\"]]\n",
        "\n",
        "#Calculated count of good performing students and poor performing students and created a dataframe\n",
        "\n",
        "Mean_count = Mean_value[\"Performance\"].value_counts().reset_index()\n",
        "\n",
        "#Renaming of columns has been done\n",
        "\n",
        "Mean_count = Mean_count.rename(columns = {\"index\":\"Performance\",\"Performance\":\"Count\"})\n",
        "\n",
        "#Index has been set to Performance column\n",
        "\n",
        "Mean_count = Mean_count.set_index(\"Performance\")\n",
        "\n",
        "#Performance_Percentage column is created and percentage is calculated\n",
        "\n",
        "Mean_count[\"Performance_Percentage\"] = [(i/1000)*100 for i in Mean_count[\"Count\"]]\n",
        "\n",
        "Mean_count"
      ]
    },
    {
      "cell_type": "markdown",
      "id": "2fc3bfed",
      "metadata": {
        "papermill": {
          "duration": 0.007706,
          "end_time": "2023-05-19T05:56:38.701420",
          "exception": false,
          "start_time": "2023-05-19T05:56:38.693714",
          "status": "completed"
        },
        "tags": [],
        "id": "2fc3bfed"
      },
      "source": [
        "# Plotting pie chart based on Performance percentile"
      ]
    },
    {
      "cell_type": "code",
      "execution_count": null,
      "id": "47c14f23",
      "metadata": {
        "execution": {
          "iopub.execute_input": "2023-05-19T05:56:38.718618Z",
          "iopub.status.busy": "2023-05-19T05:56:38.718224Z",
          "iopub.status.idle": "2023-05-19T05:56:38.891087Z",
          "shell.execute_reply": "2023-05-19T05:56:38.890093Z"
        },
        "papermill": {
          "duration": 0.184062,
          "end_time": "2023-05-19T05:56:38.893147",
          "exception": false,
          "start_time": "2023-05-19T05:56:38.709085",
          "status": "completed"
        },
        "tags": [],
        "id": "47c14f23",
        "outputId": "9ed77290-4d76-4449-d07d-e38f6dd7b51e"
      },
      "outputs": [
        {
          "data": {
            "text/plain": [
              "<matplotlib.legend.Legend at 0x7931223c1c60>"
            ]
          },
          "execution_count": 14,
          "metadata": {},
          "output_type": "execute_result"
        },
        {
          "data": {
            "image/png": "[encoded data removed]",
            "text/plain": [
              "<Figure size 640x480 with 1 Axes>"
            ]
          },
          "metadata": {},
          "output_type": "display_data"
        }
      ],
      "source": [
        "Mean_count.plot(kind = \"pie\",ylabel = \"\", title = \"Performance comparision\",y = \"Performance_Percentage\", startangle = 90)\n",
        "plt.legend()"
      ]
    },
    {
      "cell_type": "markdown",
      "id": "9351e24c",
      "metadata": {
        "papermill": {
          "duration": 0.010323,
          "end_time": "2023-05-19T05:56:38.914820",
          "exception": false,
          "start_time": "2023-05-19T05:56:38.904497",
          "status": "completed"
        },
        "tags": [],
        "id": "9351e24c"
      },
      "source": [
        "# 3. Pass vs Fail Comparision"
      ]
    },
    {
      "cell_type": "code",
      "execution_count": null,
      "id": "ded0d36d",
      "metadata": {
        "execution": {
          "iopub.execute_input": "2023-05-19T05:56:38.939642Z",
          "iopub.status.busy": "2023-05-19T05:56:38.938817Z",
          "iopub.status.idle": "2023-05-19T05:56:38.952100Z",
          "shell.execute_reply": "2023-05-19T05:56:38.951493Z"
        },
        "papermill": {
          "duration": 0.027341,
          "end_time": "2023-05-19T05:56:38.954055",
          "exception": false,
          "start_time": "2023-05-19T05:56:38.926714",
          "status": "completed"
        },
        "tags": [],
        "id": "ded0d36d",
        "outputId": "b2b60960-d69d-443f-b84a-77823b206d22"
      },
      "outputs": [
        {
          "data": {
            "text/html": [
              "<div>\n",
              "<style scoped>\n",
              "    .dataframe tbody tr th:only-of-type {\n",
              "        vertical-align: middle;\n",
              "    }\n",
              "\n",
              "    .dataframe tbody tr th {\n",
              "        vertical-align: top;\n",
              "    }\n",
              "\n",
              "    .dataframe thead th {\n",
              "        text-align: right;\n",
              "    }\n",
              "</style>\n",
              "<table border=\"1\" class=\"dataframe\">\n",
              "  <thead>\n",
              "    <tr style=\"text-align: right;\">\n",
              "      <th></th>\n",
              "      <th>Count</th>\n",
              "      <th>P/F_percentage</th>\n",
              "    </tr>\n",
              "    <tr>\n",
              "      <th>P/F</th>\n",
              "      <th></th>\n",
              "      <th></th>\n",
              "    </tr>\n",
              "  </thead>\n",
              "  <tbody>\n",
              "    <tr>\n",
              "      <th>P</th>\n",
              "      <td>971</td>\n",
              "      <td>97.1</td>\n",
              "    </tr>\n",
              "    <tr>\n",
              "      <th>F</th>\n",
              "      <td>29</td>\n",
              "      <td>2.9</td>\n",
              "    </tr>\n",
              "  </tbody>\n",
              "</table>\n",
              "</div>"
            ],
            "text/plain": [
              "     Count  P/F_percentage\n",
              "P/F                       \n",
              "P      971            97.1\n",
              "F       29             2.9"
            ]
          },
          "execution_count": 15,
          "metadata": {},
          "output_type": "execute_result"
        }
      ],
      "source": [
        "# P/F column value counts are found out and data frame is created\n",
        "\n",
        "Comparision = Exams[\"P/F\"].value_counts().reset_index()\n",
        "\n",
        "#Renaming of columns are done\n",
        "\n",
        "Comparision  = Comparision.rename(columns ={\"index\":\"P/F\",\"P/F\":\"Count\"})\n",
        "\n",
        "#Index has been set to P/F\n",
        "\n",
        "Comparision = Comparision.set_index(\"P/F\")\n",
        "\n",
        "#New column P/F_percentage is created and percentage is calculated\n",
        "\n",
        "Comparision[\"P/F_percentage\"] = [(i/1000)*100 for i in Comparision[\"Count\"]]\n",
        "\n",
        "Comparision"
      ]
    },
    {
      "cell_type": "markdown",
      "id": "5d5c6508",
      "metadata": {
        "papermill": {
          "duration": 0.008639,
          "end_time": "2023-05-19T05:56:38.973279",
          "exception": false,
          "start_time": "2023-05-19T05:56:38.964640",
          "status": "completed"
        },
        "tags": [],
        "id": "5d5c6508"
      },
      "source": [
        "# Plotting pie chart based on Pass and Fail percentile"
      ]
    },
    {
      "cell_type": "code",
      "execution_count": null,
      "id": "cfbc63ea",
      "metadata": {
        "execution": {
          "iopub.execute_input": "2023-05-19T05:56:38.992754Z",
          "iopub.status.busy": "2023-05-19T05:56:38.992337Z",
          "iopub.status.idle": "2023-05-19T05:56:39.178239Z",
          "shell.execute_reply": "2023-05-19T05:56:39.177513Z"
        },
        "papermill": {
          "duration": 0.197812,
          "end_time": "2023-05-19T05:56:39.180199",
          "exception": false,
          "start_time": "2023-05-19T05:56:38.982387",
          "status": "completed"
        },
        "tags": [],
        "id": "cfbc63ea",
        "outputId": "7fe1614a-deff-4e8c-e359-ff7cf6d46f33"
      },
      "outputs": [
        {
          "data": {
            "text/plain": [
              "<matplotlib.legend.Legend at 0x7931222b38b0>"
            ]
          },
          "execution_count": 16,
          "metadata": {},
          "output_type": "execute_result"
        },
        {
          "data": {
            "image/png": "[encoded data removed]",
            "text/plain": [
              "<Figure size 640x480 with 1 Axes>"
            ]
          },
          "metadata": {},
          "output_type": "display_data"
        }
      ],
      "source": [
        "Comparision.plot(kind = \"pie\", title = \"Pass vs Fail comparision\", y =\"P/F_percentage\", ylabel = \"\" )\n",
        "plt.legend()"
      ]
    },
    {
      "cell_type": "markdown",
      "id": "e289eb7b",
      "metadata": {
        "papermill": {
          "duration": 0.011011,
          "end_time": "2023-05-19T05:56:39.203080",
          "exception": false,
          "start_time": "2023-05-19T05:56:39.192069",
          "status": "completed"
        },
        "tags": [],
        "id": "e289eb7b"
      },
      "source": [
        "# 4. Gender wise pass and fail strength"
      ]
    },
    {
      "cell_type": "code",
      "execution_count": null,
      "id": "f50802fd",
      "metadata": {
        "execution": {
          "iopub.execute_input": "2023-05-19T05:56:39.229781Z",
          "iopub.status.busy": "2023-05-19T05:56:39.227451Z",
          "iopub.status.idle": "2023-05-19T05:56:39.238237Z",
          "shell.execute_reply": "2023-05-19T05:56:39.237591Z"
        },
        "papermill": {
          "duration": 0.025502,
          "end_time": "2023-05-19T05:56:39.239998",
          "exception": false,
          "start_time": "2023-05-19T05:56:39.214496",
          "status": "completed"
        },
        "tags": [],
        "id": "f50802fd",
        "outputId": "2c4d7c02-ec86-4b59-c433-f86c377f0b4e"
      },
      "outputs": [
        {
          "data": {
            "text/plain": [
              "P/F  Gender\n",
              "F    male       12\n",
              "     female     17\n",
              "P    female    475\n",
              "     male      496\n",
              "Name: Gender, dtype: int64"
            ]
          },
          "execution_count": 17,
          "metadata": {},
          "output_type": "execute_result"
        }
      ],
      "source": [
        "#Grouping of P/F and Gender columns and calculating the value_counts and sorting the values and assigning it to variable Gender_pass\n",
        "\n",
        "Gender_pass = Exams.groupby(Exams[\"P/F\"])[\"Gender\"].value_counts().sort_values()\n",
        "\n",
        "Gender_pass"
      ]
    },
    {
      "cell_type": "markdown",
      "id": "a8ee64a0",
      "metadata": {
        "papermill": {
          "duration": 0.008442,
          "end_time": "2023-05-19T05:56:39.258624",
          "exception": false,
          "start_time": "2023-05-19T05:56:39.250182",
          "status": "completed"
        },
        "tags": [],
        "id": "a8ee64a0"
      },
      "source": [
        "# Plotting bar chart between Gender and P/F"
      ]
    },
    {
      "cell_type": "code",
      "execution_count": null,
      "id": "40970d8a",
      "metadata": {
        "execution": {
          "iopub.execute_input": "2023-05-19T05:56:39.277853Z",
          "iopub.status.busy": "2023-05-19T05:56:39.276993Z",
          "iopub.status.idle": "2023-05-19T05:56:39.590222Z",
          "shell.execute_reply": "2023-05-19T05:56:39.589227Z"
        },
        "papermill": {
          "duration": 0.325829,
          "end_time": "2023-05-19T05:56:39.592981",
          "exception": false,
          "start_time": "2023-05-19T05:56:39.267152",
          "status": "completed"
        },
        "tags": [],
        "id": "40970d8a",
        "outputId": "15114154-3cc4-404f-9db9-06154f4da7dd"
      },
      "outputs": [
        {
          "data": {
            "text/plain": [
              "<matplotlib.legend.Legend at 0x7931223c3220>"
            ]
          },
          "execution_count": 18,
          "metadata": {},
          "output_type": "execute_result"
        },
        {
          "data": {
            "image/png": "[encoded data removed]",
            "text/plain": [
              "<Figure size 640x480 with 1 Axes>"
            ]
          },
          "metadata": {},
          "output_type": "display_data"
        }
      ],
      "source": [
        "Gender_pass.plot(kind = \"bar\", title = \"Gender wise Pass vs Fail count\")\n",
        "\n",
        "plt.legend()"
      ]
    },
    {
      "cell_type": "markdown",
      "id": "889f491d",
      "metadata": {
        "papermill": {
          "duration": 0.008829,
          "end_time": "2023-05-19T05:56:39.611652",
          "exception": false,
          "start_time": "2023-05-19T05:56:39.602823",
          "status": "completed"
        },
        "tags": [],
        "id": "889f491d"
      },
      "source": [
        "# 5. Race/Ethnicity of students count"
      ]
    },
    {
      "cell_type": "code",
      "execution_count": null,
      "id": "f3dba906",
      "metadata": {
        "execution": {
          "iopub.execute_input": "2023-05-19T05:56:39.632436Z",
          "iopub.status.busy": "2023-05-19T05:56:39.631297Z",
          "iopub.status.idle": "2023-05-19T05:56:39.638733Z",
          "shell.execute_reply": "2023-05-19T05:56:39.638145Z"
        },
        "papermill": {
          "duration": 0.019492,
          "end_time": "2023-05-19T05:56:39.640278",
          "exception": false,
          "start_time": "2023-05-19T05:56:39.620786",
          "status": "completed"
        },
        "tags": [],
        "id": "f3dba906",
        "outputId": "9dc8fbdf-51c9-4143-98b3-721e542b0b93"
      },
      "outputs": [
        {
          "data": {
            "text/plain": [
              "group A     79\n",
              "group E    143\n",
              "group B    198\n",
              "group D    257\n",
              "group C    323\n",
              "Name: Race/Ethnicity, dtype: int64"
            ]
          },
          "execution_count": 19,
          "metadata": {},
          "output_type": "execute_result"
        }
      ],
      "source": [
        "#Value_counts of Race/Ethnicity column is found and sorted in ascending order\n",
        "\n",
        "Overall = Exams[\"Race/Ethnicity\"].value_counts().sort_values()\n",
        "Overall"
      ]
    },
    {
      "cell_type": "code",
      "execution_count": null,
      "id": "e135f243",
      "metadata": {
        "execution": {
          "iopub.execute_input": "2023-05-19T05:56:39.661622Z",
          "iopub.status.busy": "2023-05-19T05:56:39.660664Z",
          "iopub.status.idle": "2023-05-19T05:56:39.866009Z",
          "shell.execute_reply": "2023-05-19T05:56:39.865326Z"
        },
        "papermill": {
          "duration": 0.217686,
          "end_time": "2023-05-19T05:56:39.867879",
          "exception": false,
          "start_time": "2023-05-19T05:56:39.650193",
          "status": "completed"
        },
        "tags": [],
        "id": "e135f243",
        "outputId": "120f5f17-4bca-4621-9712-dd428959b115"
      },
      "outputs": [
        {
          "data": {
            "text/plain": [
              "<matplotlib.legend.Legend at 0x7931221182b0>"
            ]
          },
          "execution_count": 20,
          "metadata": {},
          "output_type": "execute_result"
        },
        {
          "data": {
            "image/png": "[encoded data removed]",
            "text/plain": [
              "<Figure size 640x480 with 1 Axes>"
            ]
          },
          "metadata": {},
          "output_type": "display_data"
        }
      ],
      "source": [
        "Overall.plot(kind = \"pie\", title = \"Students count based on Race/Ethnicity\",ylabel =\"\",startangle = 0)\n",
        "plt.legend()"
      ]
    }
  ],
  "metadata": {
    "kernelspec": {
      "display_name": "Python 3",
      "language": "python",
      "name": "python3"
    },
    "language_info": {
      "codemirror_mode": {
        "name": "ipython",
        "version": 3
      },
      "file_extension": ".py",
      "mimetype": "text/x-python",
      "name": "python",
      "nbconvert_exporter": "python",
      "pygments_lexer": "ipython3",
      "version": "3.10.10"
    },
    "papermill": {
      "default_parameters": {},
      "duration": 11.491995,
      "end_time": "2023-05-19T05:56:40.727278",
      "environment_variables": {},
      "exception": null,
      "input_path": "__notebook__.ipynb",
      "output_path": "__notebook__.ipynb",
      "parameters": {},
      "start_time": "2023-05-19T05:56:29.235283",
      "version": "2.4.0"
    },
    "colab": {
      "provenance": []
    }
  },
  "nbformat": 4,
  "nbformat_minor": 5
}