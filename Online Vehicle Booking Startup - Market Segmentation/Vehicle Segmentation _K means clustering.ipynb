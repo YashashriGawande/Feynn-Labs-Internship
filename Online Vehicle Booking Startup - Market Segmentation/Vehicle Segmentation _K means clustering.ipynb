{
  "cells": [
    {
      "cell_type": "code",
      "execution_count": null,
      "metadata": {
        "_cell_guid": "b1076dfc-b9ad-4769-8c92-a6c4dae69d19",
        "_uuid": "8f2839f25d086af736a60e9eeb907d3b93b6e0e5",
        "id": "FW_JNQo1vC-V",
        "outputId": "6fcaa6e3-4e72-47a4-9ce6-4161ab546819"
      },
      "outputs": [
        {
          "name": "stdout",
          "output_type": "stream",
          "text": [
            "/kaggle/input/uber-pickups-in-new-york-city/uber-raw-data-may14.csv\n",
            "/kaggle/input/uber-pickups-in-new-york-city/other-FHV-services_jan-aug-2015.csv\n",
            "/kaggle/input/uber-pickups-in-new-york-city/other-Prestige_B01338.csv\n",
            "/kaggle/input/uber-pickups-in-new-york-city/other-Firstclass_B01536.csv\n",
            "/kaggle/input/uber-pickups-in-new-york-city/other-Skyline_B00111.csv\n",
            "/kaggle/input/uber-pickups-in-new-york-city/other-Lyft_B02510.csv\n",
            "/kaggle/input/uber-pickups-in-new-york-city/uber-raw-data-apr14.csv\n",
            "/kaggle/input/uber-pickups-in-new-york-city/uber-raw-data-jul14.csv\n",
            "/kaggle/input/uber-pickups-in-new-york-city/other-Dial7_B00887.csv\n",
            "/kaggle/input/uber-pickups-in-new-york-city/other-Diplo_B01196.csv\n",
            "/kaggle/input/uber-pickups-in-new-york-city/other-Federal_02216.csv\n",
            "/kaggle/input/uber-pickups-in-new-york-city/Uber-Jan-Feb-FOIL.csv\n",
            "/kaggle/input/uber-pickups-in-new-york-city/uber-raw-data-jun14.csv\n",
            "/kaggle/input/uber-pickups-in-new-york-city/other-Highclass_B01717.csv\n",
            "/kaggle/input/uber-pickups-in-new-york-city/other-American_B01362.csv\n",
            "/kaggle/input/uber-pickups-in-new-york-city/uber-raw-data-sep14.csv\n",
            "/kaggle/input/uber-pickups-in-new-york-city/uber-raw-data-aug14.csv\n",
            "/kaggle/input/uber-pickups-in-new-york-city/other-Carmel_B00256.csv\n",
            "/kaggle/input/uber-pickups-in-new-york-city/uber-raw-data-janjune-15.csv\n"
          ]
        }
      ],
      "source": [
        "#importing libraries\n",
        "\n",
        "import numpy as np\n",
        "import pandas as pd\n",
        "\n",
        "import os\n",
        "for dirname, _, filenames in os.walk('/kaggle/input'):\n",
        "    for filename in filenames:\n",
        "        print(os.path.join(dirname, filename))\n",
        "\n"
      ]
    },
    {
      "cell_type": "code",
      "execution_count": null,
      "metadata": {
        "id": "gYlhbXaEvC-r"
      },
      "outputs": [],
      "source": [
        "df1 = pd.read_csv(\"/kaggle/input/uber-pickups-in-new-york-city/uber-raw-data-apr14.csv\")\n",
        "df2 = pd.read_csv(\"/kaggle/input/uber-pickups-in-new-york-city/uber-raw-data-aug14.csv\")\n",
        "df3 = pd.read_csv(\"/kaggle/input/uber-pickups-in-new-york-city/uber-raw-data-jul14.csv\")\n",
        "df4 = pd.read_csv(\"/kaggle/input/uber-pickups-in-new-york-city/uber-raw-data-jun14.csv\")\n",
        "df5 = pd.read_csv(\"/kaggle/input/uber-pickups-in-new-york-city/uber-raw-data-may14.csv\")\n",
        "df6 = pd.read_csv(\"/kaggle/input/uber-pickups-in-new-york-city/uber-raw-data-sep14.csv\")"
      ]
    },
    {
      "cell_type": "code",
      "execution_count": null,
      "metadata": {
        "id": "pwPqZGwkvC-v"
      },
      "outputs": [],
      "source": [
        "data_full = pd.concat([df1, df2, df3, df4, df5, df6])"
      ]
    },
    {
      "cell_type": "code",
      "execution_count": null,
      "metadata": {
        "id": "bixv1JW5vC-x",
        "outputId": "30aaa5d6-ef97-4a9e-b0f1-d65d8058bfb7"
      },
      "outputs": [
        {
          "data": {
            "text/plain": [
              "(4534327, 4)"
            ]
          },
          "execution_count": 4,
          "metadata": {},
          "output_type": "execute_result"
        }
      ],
      "source": [
        "data_full.shape"
      ]
    },
    {
      "cell_type": "code",
      "execution_count": null,
      "metadata": {
        "_cell_guid": "79c7e3d0-c299-4dcb-8224-4455121ee9b0",
        "_uuid": "d629ff2d2480ee46fbb7e2d37f6b5fab8052498a",
        "id": "dHEEyLTKvC-1",
        "outputId": "701e8427-ba89-4c7c-8935-a6b2e46f1f67"
      },
      "outputs": [
        {
          "data": {
            "text/plain": [
              "Lat    float64\n",
              "Lon    float64\n",
              "dtype: object"
            ]
          },
          "execution_count": 5,
          "metadata": {},
          "output_type": "execute_result"
        }
      ],
      "source": [
        "clus = data_full[['Lat', 'Lon']]\n",
        "clus.dtypes"
      ]
    },
    {
      "cell_type": "markdown",
      "metadata": {
        "id": "H9qcRRVOvC-3"
      },
      "source": [
        "# Plot the number of clusters"
      ]
    },
    {
      "cell_type": "code",
      "execution_count": null,
      "metadata": {
        "id": "y7mBwQUGvC-8",
        "outputId": "670f2475-0128-47ba-c3a5-1f806aea5452"
      },
      "outputs": [
        {
          "name": "stderr",
          "output_type": "stream",
          "text": [
            "/opt/conda/lib/python3.7/site-packages/sklearn/utils/deprecation.py:143: FutureWarning: The sklearn.metrics.classification module is  deprecated in version 0.22 and will be removed in version 0.24. The corresponding classes / functions should instead be imported from sklearn.metrics. Anything that cannot be imported from sklearn.metrics is now part of the private API.\n",
            "  warnings.warn(message, FutureWarning)\n"
          ]
        }
      ],
      "source": [
        "import matplotlib.pyplot as plt\n",
        "from sklearn.cluster import KMeans\n",
        "from yellowbrick.cluster import KElbowVisualizer"
      ]
    },
    {
      "cell_type": "code",
      "execution_count": null,
      "metadata": {
        "id": "jxBWQ9PTvC--",
        "outputId": "e2ab236d-d14a-4a3b-9779-7b5480d899de"
      },
      "outputs": [
        {
          "data": {
            "image/png": "[encoded data removed]",
            "text/plain": [
              "<Figure size 576x396 with 2 Axes>"
            ]
          },
          "metadata": {},
          "output_type": "display_data"
        },
        {
          "data": {
            "text/plain": [
              "<matplotlib.axes._subplots.AxesSubplot at 0x7f31bd5b8110>"
            ]
          },
          "execution_count": 7,
          "metadata": {},
          "output_type": "execute_result"
        }
      ],
      "source": [
        "model = KMeans()\n",
        "visualizer = KElbowVisualizer(model, k = (1, 18))\n",
        "visualizer.fit(clus)\n",
        "visualizer.show()"
      ]
    },
    {
      "cell_type": "markdown",
      "metadata": {
        "id": "WEXBmvCPvC-_"
      },
      "source": [
        "# Assigning a number of cluster in K-Means Algorithim"
      ]
    },
    {
      "cell_type": "code",
      "execution_count": null,
      "metadata": {
        "id": "uze_Dy9YvC_A",
        "outputId": "0cfed2ec-06ee-44f5-c5f1-ae8aef2bb8b0"
      },
      "outputs": [
        {
          "data": {
            "text/plain": [
              "KMeans(n_clusters=5, random_state=0)"
            ]
          },
          "execution_count": 8,
          "metadata": {},
          "output_type": "execute_result"
        }
      ],
      "source": [
        "kmeans = KMeans(n_clusters = 5, random_state = 0)\n",
        "kmeans.fit(clus)"
      ]
    },
    {
      "cell_type": "code",
      "execution_count": null,
      "metadata": {
        "id": "SwptRMaDvC_B",
        "outputId": "23cd4a42-a1ae-4acf-8858-7a221b9a35ae"
      },
      "outputs": [
        {
          "data": {
            "text/plain": [
              "array([[ 40.71600413, -73.98971408],\n",
              "       [ 40.66573796, -73.76418117],\n",
              "       [ 40.79662299, -73.87899073],\n",
              "       [ 40.76235269, -73.97687068],\n",
              "       [ 40.69504708, -74.20164878]])"
            ]
          },
          "execution_count": 9,
          "metadata": {},
          "output_type": "execute_result"
        }
      ],
      "source": [
        "centroids = kmeans.cluster_centers_\n",
        "centroids"
      ]
    },
    {
      "cell_type": "code",
      "execution_count": null,
      "metadata": {
        "id": "UhpMNY5uvC_C"
      },
      "outputs": [],
      "source": [
        "clocation = pd.DataFrame(centroids, columns = ['Latitude', 'Longitude'])"
      ]
    },
    {
      "cell_type": "code",
      "execution_count": null,
      "metadata": {
        "id": "PzBqlj2ovC_D",
        "outputId": "f4cb1ebf-d339-481f-96b1-5e6d30af5559"
      },
      "outputs": [
        {
          "data": {
            "text/html": [
              "<div>\n",
              "<style scoped>\n",
              "    .dataframe tbody tr th:only-of-type {\n",
              "        vertical-align: middle;\n",
              "    }\n",
              "\n",
              "    .dataframe tbody tr th {\n",
              "        vertical-align: top;\n",
              "    }\n",
              "\n",
              "    .dataframe thead th {\n",
              "        text-align: right;\n",
              "    }\n",
              "</style>\n",
              "<table border=\"1\" class=\"dataframe\">\n",
              "  <thead>\n",
              "    <tr style=\"text-align: right;\">\n",
              "      <th></th>\n",
              "      <th>Latitude</th>\n",
              "      <th>Longitude</th>\n",
              "    </tr>\n",
              "  </thead>\n",
              "  <tbody>\n",
              "    <tr>\n",
              "      <th>0</th>\n",
              "      <td>40.716004</td>\n",
              "      <td>-73.989714</td>\n",
              "    </tr>\n",
              "    <tr>\n",
              "      <th>1</th>\n",
              "      <td>40.665738</td>\n",
              "      <td>-73.764181</td>\n",
              "    </tr>\n",
              "    <tr>\n",
              "      <th>2</th>\n",
              "      <td>40.796623</td>\n",
              "      <td>-73.878991</td>\n",
              "    </tr>\n",
              "    <tr>\n",
              "      <th>3</th>\n",
              "      <td>40.762353</td>\n",
              "      <td>-73.976871</td>\n",
              "    </tr>\n",
              "    <tr>\n",
              "      <th>4</th>\n",
              "      <td>40.695047</td>\n",
              "      <td>-74.201649</td>\n",
              "    </tr>\n",
              "  </tbody>\n",
              "</table>\n",
              "</div>"
            ],
            "text/plain": [
              "    Latitude  Longitude\n",
              "0  40.716004 -73.989714\n",
              "1  40.665738 -73.764181\n",
              "2  40.796623 -73.878991\n",
              "3  40.762353 -73.976871\n",
              "4  40.695047 -74.201649"
            ]
          },
          "execution_count": 11,
          "metadata": {},
          "output_type": "execute_result"
        }
      ],
      "source": [
        "clocation.head()"
      ]
    },
    {
      "cell_type": "code",
      "execution_count": null,
      "metadata": {
        "id": "Qj9C5f9BvC_E",
        "outputId": "828cb61c-2a20-487e-af2a-09533ef8b10c"
      },
      "outputs": [
        {
          "data": {
            "text/html": [
              "<div style=\"width:100%;\"><div style=\"position:relative;width:100%;height:0;padding-bottom:60%;\"><span style=\"color:#565656\">Make this Notebook Trusted to load map: File -> Trust Notebook</span><iframe src=\"about:blank\" style=\"position:absolute;width:100%;height:100%;left:0;top:0;border:none !important;\" data-html=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 onload=\"this.contentDocument.open();this.contentDocument.write(atob(this.getAttribute('data-html')));this.contentDocument.close();\" allowfullscreen webkitallowfullscreen mozallowfullscreen></iframe></div></div>"
            ],
            "text/plain": [
              "<folium.folium.Map at 0x7f31bd24fa50>"
            ]
          },
          "execution_count": 13,
          "metadata": {},
          "output_type": "execute_result"
        }
      ],
      "source": [
        "import folium\n",
        "centroid = clocation.values.tolist()\n",
        "\n",
        "map = folium.Map(location = [40.71600413400166, -73.98971408426613], zoom_start = 10)\n",
        "for point in range(0, len(centroid)):\n",
        "    folium.Marker(centroid[point], popup = centroid[point]).add_to(map)\n",
        "\n",
        "map"
      ]
    },
    {
      "cell_type": "markdown",
      "metadata": {
        "id": "IFPF8RYDvC_G"
      },
      "source": [
        "# Grouping and visualizing the total number of clusters"
      ]
    },
    {
      "cell_type": "code",
      "execution_count": null,
      "metadata": {
        "id": "MieVAp_MvC_G",
        "outputId": "cd1acdc6-23fc-44d9-d50d-7a4251452e7f"
      },
      "outputs": [
        {
          "data": {
            "text/plain": [
              "array([3, 0, 0, ..., 2, 0, 0], dtype=int32)"
            ]
          },
          "execution_count": 14,
          "metadata": {},
          "output_type": "execute_result"
        }
      ],
      "source": [
        "label = kmeans.labels_\n",
        "label"
      ]
    },
    {
      "cell_type": "code",
      "execution_count": null,
      "metadata": {
        "id": "75_exjsxvC_H",
        "outputId": "c83cbd70-dbcb-43b1-d469-5e46b00b22fe"
      },
      "outputs": [
        {
          "data": {
            "text/html": [
              "<div>\n",
              "<style scoped>\n",
              "    .dataframe tbody tr th:only-of-type {\n",
              "        vertical-align: middle;\n",
              "    }\n",
              "\n",
              "    .dataframe tbody tr th {\n",
              "        vertical-align: top;\n",
              "    }\n",
              "\n",
              "    .dataframe thead th {\n",
              "        text-align: right;\n",
              "    }\n",
              "</style>\n",
              "<table border=\"1\" class=\"dataframe\">\n",
              "  <thead>\n",
              "    <tr style=\"text-align: right;\">\n",
              "      <th></th>\n",
              "      <th>Date/Time</th>\n",
              "      <th>Lat</th>\n",
              "      <th>Lon</th>\n",
              "      <th>Base</th>\n",
              "      <th>Clusters</th>\n",
              "    </tr>\n",
              "  </thead>\n",
              "  <tbody>\n",
              "    <tr>\n",
              "      <th>0</th>\n",
              "      <td>4/1/2014 0:11:00</td>\n",
              "      <td>40.7690</td>\n",
              "      <td>-73.9549</td>\n",
              "      <td>B02512</td>\n",
              "      <td>3</td>\n",
              "    </tr>\n",
              "    <tr>\n",
              "      <th>1</th>\n",
              "      <td>4/1/2014 0:17:00</td>\n",
              "      <td>40.7267</td>\n",
              "      <td>-74.0345</td>\n",
              "      <td>B02512</td>\n",
              "      <td>0</td>\n",
              "    </tr>\n",
              "    <tr>\n",
              "      <th>2</th>\n",
              "      <td>4/1/2014 0:21:00</td>\n",
              "      <td>40.7316</td>\n",
              "      <td>-73.9873</td>\n",
              "      <td>B02512</td>\n",
              "      <td>0</td>\n",
              "    </tr>\n",
              "    <tr>\n",
              "      <th>3</th>\n",
              "      <td>4/1/2014 0:28:00</td>\n",
              "      <td>40.7588</td>\n",
              "      <td>-73.9776</td>\n",
              "      <td>B02512</td>\n",
              "      <td>3</td>\n",
              "    </tr>\n",
              "    <tr>\n",
              "      <th>4</th>\n",
              "      <td>4/1/2014 0:33:00</td>\n",
              "      <td>40.7594</td>\n",
              "      <td>-73.9722</td>\n",
              "      <td>B02512</td>\n",
              "      <td>3</td>\n",
              "    </tr>\n",
              "    <tr>\n",
              "      <th>...</th>\n",
              "      <td>...</td>\n",
              "      <td>...</td>\n",
              "      <td>...</td>\n",
              "      <td>...</td>\n",
              "      <td>...</td>\n",
              "    </tr>\n",
              "    <tr>\n",
              "      <th>1028131</th>\n",
              "      <td>9/30/2014 22:57:00</td>\n",
              "      <td>40.7668</td>\n",
              "      <td>-73.9845</td>\n",
              "      <td>B02764</td>\n",
              "      <td>3</td>\n",
              "    </tr>\n",
              "    <tr>\n",
              "      <th>1028132</th>\n",
              "      <td>9/30/2014 22:57:00</td>\n",
              "      <td>40.6911</td>\n",
              "      <td>-74.1773</td>\n",
              "      <td>B02764</td>\n",
              "      <td>4</td>\n",
              "    </tr>\n",
              "    <tr>\n",
              "      <th>1028133</th>\n",
              "      <td>9/30/2014 22:58:00</td>\n",
              "      <td>40.8519</td>\n",
              "      <td>-73.9319</td>\n",
              "      <td>B02764</td>\n",
              "      <td>2</td>\n",
              "    </tr>\n",
              "    <tr>\n",
              "      <th>1028134</th>\n",
              "      <td>9/30/2014 22:58:00</td>\n",
              "      <td>40.7081</td>\n",
              "      <td>-74.0066</td>\n",
              "      <td>B02764</td>\n",
              "      <td>0</td>\n",
              "    </tr>\n",
              "    <tr>\n",
              "      <th>1028135</th>\n",
              "      <td>9/30/2014 22:58:00</td>\n",
              "      <td>40.7140</td>\n",
              "      <td>-73.9496</td>\n",
              "      <td>B02764</td>\n",
              "      <td>0</td>\n",
              "    </tr>\n",
              "  </tbody>\n",
              "</table>\n",
              "<p>4534327 rows × 5 columns</p>\n",
              "</div>"
            ],
            "text/plain": [
              "                  Date/Time      Lat      Lon    Base  Clusters\n",
              "0          4/1/2014 0:11:00  40.7690 -73.9549  B02512         3\n",
              "1          4/1/2014 0:17:00  40.7267 -74.0345  B02512         0\n",
              "2          4/1/2014 0:21:00  40.7316 -73.9873  B02512         0\n",
              "3          4/1/2014 0:28:00  40.7588 -73.9776  B02512         3\n",
              "4          4/1/2014 0:33:00  40.7594 -73.9722  B02512         3\n",
              "...                     ...      ...      ...     ...       ...\n",
              "1028131  9/30/2014 22:57:00  40.7668 -73.9845  B02764         3\n",
              "1028132  9/30/2014 22:57:00  40.6911 -74.1773  B02764         4\n",
              "1028133  9/30/2014 22:58:00  40.8519 -73.9319  B02764         2\n",
              "1028134  9/30/2014 22:58:00  40.7081 -74.0066  B02764         0\n",
              "1028135  9/30/2014 22:58:00  40.7140 -73.9496  B02764         0\n",
              "\n",
              "[4534327 rows x 5 columns]"
            ]
          },
          "execution_count": 15,
          "metadata": {},
          "output_type": "execute_result"
        }
      ],
      "source": [
        "data_new = data_full.copy()\n",
        "data_new['Clusters'] = label\n",
        "data_new"
      ]
    },
    {
      "cell_type": "code",
      "execution_count": null,
      "metadata": {
        "id": "1HfA-6iEvC_I",
        "outputId": "e7cab0f4-a8d7-482c-c721-dde8690785a3"
      },
      "outputs": [
        {
          "name": "stderr",
          "output_type": "stream",
          "text": [
            "/opt/conda/lib/python3.7/site-packages/seaborn/categorical.py:3669: UserWarning: The `factorplot` function has been renamed to `catplot`. The original name will be removed in a future release. Please update your code. Note that the default `kind` in `factorplot` (`'point'`) has changed `'strip'` in `catplot`.\n",
            "  warnings.warn(msg)\n",
            "/opt/conda/lib/python3.7/site-packages/seaborn/categorical.py:3675: UserWarning: The `size` parameter has been renamed to `height`; please update your code.\n",
            "  warnings.warn(msg, UserWarning)\n"
          ]
        },
        {
          "data": {
            "text/plain": [
              "<seaborn.axisgrid.FacetGrid at 0x7f31bce25310>"
            ]
          },
          "execution_count": 16,
          "metadata": {},
          "output_type": "execute_result"
        },
        {
          "data": {
            "image/png": "[encoded data removed]",
            "text/plain": [
              "<Figure size 1008x504 with 1 Axes>"
            ]
          },
          "metadata": {},
          "output_type": "display_data"
        }
      ],
      "source": [
        "import seaborn as sb\n",
        "sb.factorplot(data = data_new, x = \"Clusters\", kind = \"count\", size = 7, aspect = 2)"
      ]
    },
    {
      "cell_type": "markdown",
      "metadata": {
        "id": "BrxGnc_8vC_K"
      },
      "source": [
        "# Compare the cluster"
      ]
    },
    {
      "cell_type": "code",
      "execution_count": null,
      "metadata": {
        "id": "ge0w72P3vC_K",
        "outputId": "577aa6e7-5d50-470b-b2d6-fed0889bf133"
      },
      "outputs": [
        {
          "name": "stdout",
          "output_type": "stream",
          "text": [
            "2052540 2054339\n"
          ]
        }
      ],
      "source": [
        "count_3 = 0\n",
        "count_0 = 0\n",
        "for value in data_new['Clusters']:\n",
        "    if value == 3:\n",
        "        count_3 += 1\n",
        "    if value == 0:\n",
        "        count_0 += 1\n",
        "print(count_0, count_3)"
      ]
    },
    {
      "cell_type": "markdown",
      "metadata": {
        "id": "4bhAwBQ6vC_L"
      },
      "source": [
        "# Predict cluster for new location"
      ]
    },
    {
      "cell_type": "code",
      "execution_count": null,
      "metadata": {
        "id": "pmxIJiJYvC_M",
        "outputId": "5524e8f5-4ae1-418a-b4dd-26f08c5c1e3f"
      },
      "outputs": [
        {
          "data": {
            "text/plain": [
              "array([4], dtype=int32)"
            ]
          },
          "execution_count": 18,
          "metadata": {},
          "output_type": "execute_result"
        }
      ],
      "source": [
        "new_location = [(40.86, -75.56)]\n",
        "kmeans.predict(new_location)"
      ]
    }
  ],
  "metadata": {
    "kernelspec": {
      "display_name": "Python 3",
      "language": "python",
      "name": "python3"
    },
    "language_info": {
      "codemirror_mode": {
        "name": "ipython",
        "version": 3
      },
      "file_extension": ".py",
      "mimetype": "text/x-python",
      "name": "python",
      "nbconvert_exporter": "python",
      "pygments_lexer": "ipython3",
      "version": "3.8.5"
    },
    "colab": {
      "provenance": []
    }
  },
  "nbformat": 4,
  "nbformat_minor": 0
}